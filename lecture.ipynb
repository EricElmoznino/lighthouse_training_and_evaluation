{
 "cells": [
  {
   "cell_type": "markdown",
   "metadata": {},
   "source": [
    "# Training and Evaluation - W05D1\n",
    "### Instructor: Eric Elmoznino\n",
    "(Adapted from content by Monique Wong and Arunabh Singh)"
   ]
  },
  {
   "cell_type": "markdown",
   "metadata": {},
   "source": [
    "## Overview\n",
    "- Training models\n",
    "    - Overfitting\n",
    "    - Train-test split\n",
    "    - Sampling bias\n",
    "    - Cross-validation\n",
    "    - Hyperparameter tuning\n",
    "        - Grid search\n",
    "- Model evaluation\n",
    "    - Regression\n",
    "    - Classification"
   ]
  },
  {
   "cell_type": "code",
   "execution_count": 236,
   "metadata": {},
   "outputs": [],
   "source": [
    "import pandas as pd\n",
    "import numpy as np\n",
    "import seaborn as sns; sns.set(style='darkgrid', context='talk')\n",
    "import matplotlib.pyplot as plt"
   ]
  },
  {
   "cell_type": "markdown",
   "metadata": {},
   "source": [
    "---\n",
    "# Training models"
   ]
  },
  {
   "cell_type": "markdown",
   "metadata": {},
   "source": [
    "## Overfitting\n",
    "![](images/overfitting.png)\n",
    "\n",
    "- Data has two components components: signal (pattern) + noise\n",
    "- Example: predicting house prices from # of bedrooms, area, age, etc.\n",
    "    - Signal: degree to which these features influence the price\n",
    "    - Noise: random variation, or variation due to unknown features\n",
    "- Goal of machine learning: model the pattern, ignore the noise\n",
    "- When the model is fitting (trying to predict) the noise, we say that it is overfitting\n",
    "- Overfitting is undesirable, because the noise is random and therefore won’t be the same on new data seen out in the real world\n",
    "\n",
    "#### How can we detect it?\n",
    "![](images/overfitting_training.png)"
   ]
  },
  {
   "cell_type": "markdown",
   "metadata": {},
   "source": [
    "## Test/train split\n",
    "- With more powerful models, we can always arbitrarily fit the training data better and better (lower training error)\n",
    "- What we're actually trying to achieve is good performance on **new data that our model was never trained on**\n",
    "- We can train our model on just a subset of our whole dataset (**train set**) and evaluate its performance on the rest (**test set**)\n",
    "\n",
    "<img src=\"images/test_set.png\" style=\"width: 800px;\"/>"
   ]
  },
  {
   "cell_type": "markdown",
   "metadata": {},
   "source": [
    "### Train/test split example"
   ]
  },
  {
   "cell_type": "code",
   "execution_count": 237,
   "metadata": {},
   "outputs": [
    {
     "name": "stdout",
     "output_type": "stream",
     "text": [
      "Dataset has 506 data points and 13 features\n"
     ]
    }
   ],
   "source": [
    "# Load the dataset\n",
    "from sklearn.datasets import load_boston\n",
    "from sklearn.utils import shuffle\n",
    "\n",
    "boston_data = load_boston()\n",
    "X, y = boston_data['data'], boston_data['target']\n",
    "\n",
    "# It is good practice to shuffle your data, since it\n",
    "# may be ordered in a particular way (e.g. increasing target)\n",
    "X, y = shuffle(X, y, random_state=27)\n",
    "\n",
    "print(f'Dataset has {X.shape[0]} data points and {X.shape[1]} features')"
   ]
  },
  {
   "cell_type": "code",
   "execution_count": 238,
   "metadata": {},
   "outputs": [
    {
     "name": "stdout",
     "output_type": "stream",
     "text": [
      "354 training samples and 152 test samples\n"
     ]
    }
   ],
   "source": [
    "# Make train/test split\n",
    "# Let's use 70% of the data for training and evaluate on the remaining 30%\n",
    "train_ratio = 0.7\n",
    "\n",
    "X_train, X_test = X[:int(train_ratio * len(X))], X[int(train_ratio * len(X)):]\n",
    "y_train, y_test = y[:int(train_ratio * len(y))], y[int(train_ratio * len(y)):]\n",
    "\n",
    "print(f'{len(X_train)} training samples and {len(X_test)} test samples')"
   ]
  },
  {
   "cell_type": "code",
   "execution_count": 239,
   "metadata": {},
   "outputs": [
    {
     "name": "stdout",
     "output_type": "stream",
     "text": [
      "354 training samples and 152 test samples\n"
     ]
    }
   ],
   "source": [
    "# In practice, we can just use sklearn's convenience function for making the above split instead\n",
    "from sklearn.model_selection import train_test_split\n",
    "\n",
    "X_train, X_test, y_train, y_test = train_test_split(X, y, shuffle=False, train_size=train_ratio)\n",
    "\n",
    "print(f'{len(X_train)} training samples and {len(X_test)} test samples')"
   ]
  },
  {
   "cell_type": "code",
   "execution_count": 240,
   "metadata": {},
   "outputs": [
    {
     "data": {
      "text/plain": [
       "LinearRegression()"
      ]
     },
     "execution_count": 240,
     "metadata": {},
     "output_type": "execute_result"
    }
   ],
   "source": [
    "# Train our model\n",
    "from sklearn.linear_model import LinearRegression\n",
    "\n",
    "reg = LinearRegression()\n",
    "reg.fit(X_train, y_train)"
   ]
  },
  {
   "cell_type": "code",
   "execution_count": 241,
   "metadata": {},
   "outputs": [
    {
     "name": "stdout",
     "output_type": "stream",
     "text": [
      "Train R^2:\t0.7278481991105032\n",
      "Test R^2:\t0.7500070318143854\n"
     ]
    }
   ],
   "source": [
    "# Check performance on train and test set\n",
    "from sklearn.metrics import r2_score\n",
    "\n",
    "y_train_pred = reg.predict(X_train)\n",
    "y_test_pred = reg.predict(X_test)\n",
    "\n",
    "r2_train = r2_score(y_train, y_train_pred)\n",
    "r2_test = r2_score(y_test, y_test_pred)\n",
    "\n",
    "print(f'Train R^2:\\t{r2_train}\\nTest R^2:\\t{r2_test}')"
   ]
  },
  {
   "cell_type": "markdown",
   "metadata": {},
   "source": [
    "#### Debrief\n",
    "The test set performance is actually *higher* than on the train set. Our model isn't overfitting, and might actually be underfitting.\n",
    "Perhaps we can use a more complex model and get even better performance on the test set. Let's try polynomial regression."
   ]
  },
  {
   "cell_type": "code",
   "execution_count": 242,
   "metadata": {},
   "outputs": [
    {
     "name": "stdout",
     "output_type": "stream",
     "text": [
      "Number of polynomial features: 105\n",
      "Train R^2:\t0.9297430147937601\n",
      "Test R^2:\t0.8348043327997127\n"
     ]
    }
   ],
   "source": [
    "from sklearn.preprocessing import PolynomialFeatures\n",
    "\n",
    "# Create polynomial feature set and train model\n",
    "Xpoly_train = PolynomialFeatures(degree=2).fit_transform(X_train)\n",
    "Xpoly_test = PolynomialFeatures(degree=2).fit_transform(X_test)\n",
    "print(f'Number of polynomial features: {Xpoly_train.shape[1]}')\n",
    "\n",
    "# Train our model\n",
    "reg.fit(Xpoly_train, y_train)\n",
    "ypoly_train_pred = reg.predict(Xpoly_train)\n",
    "ypoly_test_pred = reg.predict(Xpoly_test)\n",
    "\n",
    "# Check performance on train and test set\n",
    "r2poly_train = r2_score(y_train, ypoly_train_pred)\n",
    "r2poly_test = r2_score(y_test, ypoly_test_pred)\n",
    "print(f'Train R^2:\\t{r2poly_train}\\nTest R^2:\\t{r2poly_test}')"
   ]
  },
  {
   "cell_type": "markdown",
   "metadata": {},
   "source": [
    "#### Debrief\n",
    "Our more complex second-order polynomial regression model performed even better on the test set.\n",
    "Our model might be overfitting, but we are not sure yet.\n",
    "Let's bump up the complexity one more time and try third-order polynomial regression."
   ]
  },
  {
   "cell_type": "code",
   "execution_count": 243,
   "metadata": {},
   "outputs": [
    {
     "name": "stdout",
     "output_type": "stream",
     "text": [
      "Number of polynomial features: 560\n",
      "Train R^2:\t1.0\n",
      "Test R^2:\t-680.1136852208409\n"
     ]
    }
   ],
   "source": [
    "# Create polynomial feature set and train model\n",
    "Xpoly3_train = PolynomialFeatures(degree=3).fit_transform(X_train)\n",
    "Xpoly3_test = PolynomialFeatures(degree=3).fit_transform(X_test)\n",
    "print(f'Number of polynomial features: {Xpoly3_train.shape[1]}')\n",
    "\n",
    "# Train our model\n",
    "reg.fit(Xpoly3_train, y_train)\n",
    "ypoly3_train_pred = reg.predict(Xpoly3_train)\n",
    "ypoly3_test_pred = reg.predict(Xpoly3_test)\n",
    "\n",
    "# Check performance on train and test set\n",
    "r2poly3_train = r2_score(y_train, ypoly3_train_pred)\n",
    "r2poly3_test = r2_score(y_test, ypoly3_test_pred)\n",
    "print(f'Train R^2:\\t{r2poly3_train}\\nTest R^2:\\t{r2poly3_test}')"
   ]
  },
  {
   "cell_type": "markdown",
   "metadata": {},
   "source": [
    "#### Debrief\n",
    "Our even more complex third-order polynomial regression model did horribly on the test set. Notice that it overfit the training set completly (perfect prediction). This can always happen in linear regression when we have more features than data points (which is the case here)."
   ]
  },
  {
   "cell_type": "code",
   "execution_count": 244,
   "metadata": {},
   "outputs": [
    {
     "data": {
      "image/png": "[encoded data removed]",
      "text/plain": [
       "<Figure size 864x432 with 1 Axes>"
      ]
     },
     "metadata": {},
     "output_type": "display_data"
    }
   ],
   "source": [
    "# Show performance of all models on train and test set\n",
    "df = pd.DataFrame({'Model Complexity': ['linear', 'linear', '2nd-order', '2nd-order', '3rd-order', '3rd-order'],\n",
    "                  'R^2': [r2_train, r2_test, r2poly_train, r2poly_test, r2poly3_train, r2poly3_test],\n",
    "                  'Set': ['train', 'test', 'train', 'test', 'train', 'test']})\n",
    "df['R^2'] = df['R^2'].clip(lower=0)    # Threshold minimum R^2 to 0 for nicer display of results (if it's 0, we already know it learned nothing)\n",
    "\n",
    "plt.figure(figsize=(12, 6))\n",
    "sns.lineplot(x='Model Complexity', y='R^2', hue='Set', data=df, sort=False)\n",
    "plt.ylim(ymin=0, ymax=1)\n",
    "plt.ylabel('R^2 (higher is better)')\n",
    "plt.show()"
   ]
  },
  {
   "cell_type": "code",
   "execution_count": null,
   "metadata": {},
   "outputs": [],
   "source": []
  },
  {
   "cell_type": "markdown",
   "metadata": {},
   "source": [
    "## Sampling bias\n",
    "- In machine learning, remember that the model just learns patterns in the data you give it\n",
    "- What if our dataset isn't representative of the type of data we want our model to handle afterwards?\n",
    "- Most machine learning models fail dramatically for **out of distribution** data that is very different from what we've trained on\n",
    "\n",
    "<!--\n",
    "import numpy as np\n",
    "plt.figure(figsize=(16, 8))\n",
    "noise = np.random.normal(scale=0.07, size=1000)\n",
    "x = np.linspace(1, 10, 1000)\n",
    "y = np.log(x)\n",
    "samples = y[400:600] + noise[400:600]\n",
    "plt.plot(x, y, label='true distribution')\n",
    "plt.scatter(x[400:600], samples, color='r', alpha=0.5, s=20, label='data')\n",
    "plt.plot(x, x * 1/x[500] + (y[500] - 1), label='model')\n",
    "plt.xlabel('x')\n",
    "plt.ylabel('y')\n",
    "plt.legend()\n",
    "plt.savefig('images/sampling_bias.png', dpi=200)\n",
    "plt.show()\n",
    "-->\n",
    "<img src=\"images/sampling_bias.png\" style=\"width: 1200px;\"/>\n",
    "\n",
    "### Activity\n",
    "Think of a **dataset** and machine learning **task** where:\n",
    "- Our data was collected within a certain distribution (e.g. house prices in Toronto)\n",
    "- We evaluate it on out of distribution data where it would fail (e.g. house prices in Tokyo)\n",
    "\n",
    "Essentially **all** datasets are biased one way or another. Train yourself to think of different ways\n",
    "that they could be biased and different reasons why. Understanding the conditions under which your model\n",
    "will work and fail is essential when deploying it in the real world.\n",
    "\n",
    "*Try and think creatively about real scenarios where the dataset would be biased because of where it came from!\n",
    "(e.g. don't just say it only had house prices from Toronto, give a realistic explanation for why that might happen)*\n",
    "\n",
    "<!--\n",
    "- Houses within a certain age\n",
    "- Old dataset from another decade\n",
    "- One data-source (e.g. Creg's list). Very common problem which will cause bias from multiple sources. Instagram selfie example from ModiFace\n",
    "- Different data processing (e.g. you forget to standardize the new data coming in like you did with your training data)\n",
    "- Different data formats or devices. For images, different cameras. For audio, different microphones. For text, different writing medium\n",
    "- Dataset too small (most common problem, since statistically small dataset is bound to be biased). Problem gets worse the more features we have\n",
    "-->"
   ]
  },
  {
   "cell_type": "markdown",
   "metadata": {},
   "source": [
    "## Cross-validation\n",
    "- We wish to evaluate our model on a dataset with little sampling bias, so that we know how it will perform in the real world\n",
    "- Smaller datasets are far more likely to suffer from sampling bias\n",
    "- This creates a conflict:\n",
    "    - We want to have a big test set to get a realistic estimate of our model's performance without sampling bias\n",
    "    - We want to have a big training set so that our model can learn without sampling bias\n",
    "- How can we reconcile these goals?\n",
    "\n",
    "<img src=\"images/cross_validation.png\" style=\"width: 1000px;\"/>"
   ]
  },
  {
   "cell_type": "markdown",
   "metadata": {},
   "source": [
    "### Cross-validation example"
   ]
  },
  {
   "cell_type": "code",
   "execution_count": 245,
   "metadata": {},
   "outputs": [
    {
     "name": "stdout",
     "output_type": "stream",
     "text": [
      "The folds are of type <class 'list'> and contain 102, 101, 101, 101, 101 data points\n"
     ]
    }
   ],
   "source": [
    "# Make the folds\n",
    "k_folds = 5\n",
    "\n",
    "X_folds, y_folds = np.array_split(X, k_folds), np.array_split(y, k_folds)\n",
    "\n",
    "fold_sizes = ', '.join([str(len(f)) for f in X_folds])\n",
    "print(f'The folds are of type {type(X_folds)} and contain {fold_sizes} data points')"
   ]
  },
  {
   "cell_type": "code",
   "execution_count": 273,
   "metadata": {},
   "outputs": [
    {
     "name": "stdout",
     "output_type": "stream",
     "text": [
      "[0.7057189451172954, 0.6566041936444876, 0.720302685252295, 0.7898705155348583, 0.7287877060675562]\n"
     ]
    }
   ],
   "source": [
    "# List that will accumulate test performance on each fold\n",
    "cv_r2 = []\n",
    "\n",
    "for i in range(k_folds):\n",
    "    # Make the train/test set for this fold\n",
    "    X_test = X_folds[i]\n",
    "    y_test = y_folds[i]\n",
    "    X_train = [X_folds[j] for j in range(k_folds) if j != i]\n",
    "    y_train = [y_folds[j] for j in range(k_folds) if j != i]\n",
    "    X_train = np.concatenate(X_train)\n",
    "    y_train = np.concatenate(y_train)\n",
    "    \n",
    "    # Train the model\n",
    "    reg.fit(X_train, y_train)\n",
    "    \n",
    "    # Evaluate the model on the test set\n",
    "    y_pred = reg.predict(X_test)\n",
    "    r2 = r2_score(y_test, y_pred)\n",
    "    \n",
    "    cv_r2.append(r2)\n",
    "    \n",
    "print(cv_r2)"
   ]
  },
  {
   "cell_type": "code",
   "execution_count": 274,
   "metadata": {},
   "outputs": [
    {
     "name": "stdout",
     "output_type": "stream",
     "text": [
      "Cross-validated R^2\n",
      "Mean:\t0.7202568091232985\n",
      "Std.:\t0.04285289109219586\n"
     ]
    }
   ],
   "source": [
    "# Get the mean and standard deviation of the cross-validation test set performance across folds\n",
    "cv_r2 = np.array(cv_r2)\n",
    "print(f'Cross-validated R^2\\nMean:\\t{cv_r2.mean()}\\nStd.:\\t{cv_r2.std()}')"
   ]
  },
  {
   "cell_type": "markdown",
   "metadata": {},
   "source": [
    "#### Debrief\n",
    "Notice that this test set performance is actually lower than in our initial example when we split the\n",
    "dataset once into a train/test set. We should trust this estimate more, because it was computed\n",
    "from 5 different train/test splits rather than a single one."
   ]
  },
  {
   "cell_type": "markdown",
   "metadata": {},
   "source": [
    "#### sklearn provides an easier way to do cross-validation"
   ]
  },
  {
   "cell_type": "code",
   "execution_count": 275,
   "metadata": {},
   "outputs": [
    {
     "name": "stdout",
     "output_type": "stream",
     "text": [
      "Cross-validated R^2\n",
      "Mean:\t0.7202568091232985\n",
      "Std.:\t0.04285289109219586\n"
     ]
    }
   ],
   "source": [
    "from sklearn.model_selection import KFold\n",
    "\n",
    "# List that will accumulate test performance on each fold\n",
    "cv_r2 = []\n",
    "\n",
    "kf = KFold(n_splits=k_folds)\n",
    "\n",
    "for train_idx, test_idx in kf.split(X):\n",
    "    X_train, X_test, y_train, y_test = X[train_idx], X[test_idx], y[train_idx], y[test_idx]\n",
    "    \n",
    "    # Train the model\n",
    "    reg.fit(X_train, y_train)\n",
    "    \n",
    "    # Evaluate the model on the test set\n",
    "    y_pred = reg.predict(X_test)\n",
    "    r2 = r2_score(y_test, y_pred)\n",
    "    \n",
    "    cv_r2.append(r2)\n",
    "    \n",
    "# Get the mean and standard deviation of the cross-validation test set performance across folds\n",
    "cv_r2 = np.array(cv_r2)\n",
    "print(f'Cross-validated R^2\\nMean:\\t{cv_r2.mean()}\\nStd.:\\t{cv_r2.std()}')"
   ]
  },
  {
   "cell_type": "markdown",
   "metadata": {},
   "source": [
    "#### And sklearn provides an even easier way if all we're interested in is the scores"
   ]
  },
  {
   "cell_type": "code",
   "execution_count": 277,
   "metadata": {},
   "outputs": [
    {
     "name": "stdout",
     "output_type": "stream",
     "text": [
      "Cross-validated R^2\n",
      "Mean:\t0.7202568091232985\n",
      "Std.:\t0.04285289109219586\n"
     ]
    }
   ],
   "source": [
    "from sklearn.model_selection import cross_val_score\n",
    "\n",
    "cv_r2 = cross_val_score(reg, X, y, cv=k_folds, scoring='r2')\n",
    "print(f'Cross-validated R^2\\nMean:\\t{cv_r2.mean()}\\nStd.:\\t{cv_r2.std()}')"
   ]
  },
  {
   "cell_type": "markdown",
   "metadata": {},
   "source": [
    "### What to do after corss-validation?\n",
    "**Question**: Cross-validation will give us a more robust estimate of the true out of sample error. However, we have ended up training several models. Which do we pick to finally deploy?\n",
    "\n",
    "**Answer**: None of them! Cross-validation has served its purpose by giving us a robust estimate of how our model will perform out in the real world. Now, we train our model on the entire dataset, since more data almost always means a better model."
   ]
  },
  {
   "cell_type": "markdown",
   "metadata": {},
   "source": [
    "## Hyperparameter tuning\n",
    "- Most models often have parameters that we must set, which are not learned during training. We call these **hyperparameters**\n",
    "- For instance, Ridge Regression, which uses L2 regularization to prevent overfitting, requires us to set a λ parameter that balances the weight penalty vs. prediction error in the loss term\n",
    "- If these hyperparameters are not learned during training, how do we learn them?\n",
    "- The most common method amounts to, disappointingly, guess-and-check... We try a bunch of values for the hyperparameters and set them to whatever achieves the lowest loss"
   ]
  },
  {
   "cell_type": "markdown",
   "metadata": {},
   "source": [
    "### Grid search with cross-validation\n",
    "- "
   ]
  },
  {
   "cell_type": "markdown",
   "metadata": {},
   "source": [
    "### Grid search with cross-validation example"
   ]
  },
  {
   "cell_type": "code",
   "execution_count": null,
   "metadata": {},
   "outputs": [],
   "source": []
  },
  {
   "cell_type": "markdown",
   "metadata": {},
   "source": [
    "### Train/validation/test split\n",
    "**Question**: Have you noticed anything wrong with what we are doing? Should we trust our cross-validation score as a true estimate of performance on out-of-sample data?\n",
    "\n",
    "**Answer**: No, we cannot trust it. We have been using the cross-validation score to select hyperparameters. You can think of this as having used the validation data in each fold to train our model in a way. So, our model will be biased to the dataset and our cross-validation score will be overly-optimistic.\n",
    "\n",
    "**Solution**:\n",
    "1. Split the dataset into a train/test set\n",
    "2. Perform grid search with cross-validation on the training set. Each fold, the training set will be split into a train/validation set\n",
    "3. Using the hyperparameters that obtained the best cross-validation score, retrain the model on the entire training set (not just training folds within this training set)\n",
    "4. Evaluate the model on the test set to get a true estimate of the out-of-sample error\n",
    "\n",
    "<img src=\"images/cross_validation_with_test.png\" style=\"width: 1000px;\"/>\n",
    "\n",
    "*Note*: Instead of splitting the dataset into a train/test set once and doing cross-validation on that single train set, we can perform a nested cross-validation. This gives us an even better estimate of how well our model, training scheme, and hyperparameter search scheme will perform out in the real world. See [here](https://scikit-learn.org/stable/auto_examples/model_selection/plot_nested_cross_validation_iris.html) for an example."
   ]
  },
  {
   "cell_type": "code",
   "execution_count": null,
   "metadata": {},
   "outputs": [],
   "source": []
  }
 ],
 "metadata": {
  "kernelspec": {
   "display_name": "Python 3",
   "language": "python",
   "name": "python3"
  },
  "language_info": {
   "codemirror_mode": {
    "name": "ipython",
    "version": 3
   },
   "file_extension": ".py",
   "mimetype": "text/x-python",
   "name": "python",
   "nbconvert_exporter": "python",
   "pygments_lexer": "ipython3",
   "version": "3.7.9"
  }
 },
 "nbformat": 4,
 "nbformat_minor": 4
}
